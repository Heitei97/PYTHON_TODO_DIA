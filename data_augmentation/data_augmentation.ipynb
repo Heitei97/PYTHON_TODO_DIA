{
 "cells": [
  {
   "cell_type": "code",
   "execution_count": null,
   "metadata": {},
   "outputs": [],
   "source": [
    "# import the necessary packages\n",
    "from tensorflow.keras.preprocessing.image import ImageDataGenerator\n",
    "from tensorflow.keras.preprocessing.image import img_to_array\n",
    "from tensorflow.keras.preprocessing.image import load_img\n",
    "import numpy as np"
   ]
  },
  {
   "cell_type": "code",
   "execution_count": null,
   "metadata": {},
   "outputs": [],
   "source": [
    "# carrega imagem e converte num numpy array\n",
    "# coloque uma dimensão extra na imagem\n",
    "print('carregando imagens para multiplicar')\n",
    "image = load_img('Aomine.jpg')\n",
    "image = img_to_array(image)\n",
    "image = np.expand_dims(image, axis=0)\n",
    "# contruindo o gerador de imagem para data augmentation\n",
    "aug = ImageDataGenerator(\n",
    "    rotation_range=30,\n",
    "    zoom_range=0.15,\n",
    "    width_shift_range=0.2,\n",
    "    height_shift_range=0.2,\n",
    "    shear_range=0.15,\n",
    "    horizontal_flip=True,\n",
    "    vertical_flip=True,\n",
    "    fill_mode=\"nearest\")"
   ]
  },
  {
   "cell_type": "code",
   "execution_count": null,
   "metadata": {},
   "outputs": [],
   "source": [
    "total = 0\n",
    "print('gerando imagens...')\n",
    "#local de destino das imagens\n",
    "imageGen = aug.flow(image, batch_size=1, save_to_dir='C:/Users/miuki/Documents/python_todo_dia/',\n",
    "    save_prefix=\"image\", save_format=\"jpg\")\n",
    "# loop que faz o controle do número de imagens a serem geradas (no caso 100)\n",
    "for image in imageGen:\n",
    "    total += 1\n",
    "    if total == 100:\n",
    "        break"
   ]
  },
  {
   "cell_type": "markdown",
   "metadata": {},
   "source": [
    "# OUTRA FORMA"
   ]
  },
  {
   "cell_type": "code",
   "execution_count": null,
   "metadata": {},
   "outputs": [],
   "source": [
    "# importando augmentor\n",
    "import Augmentor \n",
    "#Passandando imagens\n",
    "p = Augmentor.Pipeline('Aomine.jpg') \n",
    "  \n",
    "# definindo para gerar 5 imagens \n",
    "p.flip_left_right(0.5) \n",
    "p.black_and_white(0.1) \n",
    "p.rotate(0.3, 10, 10) \n",
    "p.skew(0.4, 0.5) \n",
    "p.zoom(probability = 0.2, min_factor = 1.1, max_factor = 1.5) \n",
    "p.sample(5) #número de imagens geradas"
   ]
  }
 ],
 "metadata": {
  "kernelspec": {
   "display_name": "Python 3",
   "language": "python",
   "name": "python3"
  },
  "language_info": {
   "codemirror_mode": {
    "name": "ipython",
    "version": 3
   },
   "file_extension": ".py",
   "mimetype": "text/x-python",
   "name": "python",
   "nbconvert_exporter": "python",
   "pygments_lexer": "ipython3",
   "version": "3.7.7"
  }
 },
 "nbformat": 4,
 "nbformat_minor": 4
}
