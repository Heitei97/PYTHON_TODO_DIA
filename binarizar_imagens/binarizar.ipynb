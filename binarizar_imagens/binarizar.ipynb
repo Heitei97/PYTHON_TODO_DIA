{
 "cells": [
  {
   "cell_type": "code",
   "execution_count": 13,
   "metadata": {},
   "outputs": [],
   "source": [
    "import cv2\n",
    "#ler imagem\n",
    "img = cv2.imread('Uzaki.jpg')\n",
    "#reduz o tamanho da imagem pela metade\n",
    "img = cv2.resize(img, (0,0), fx=0.5, fy=0.5)\n",
    "#converte para escala de cinza\n",
    "gray = cv2.cvtColor(img, cv2.COLOR_BGR2GRAY)\n",
    "#binariza a imagem (note que ele pega os contornos)\n",
    "\n",
    "th3 = cv2.adaptiveThreshold(gray,255,cv2.ADAPTIVE_THRESH_GAUSSIAN_C,\\\n",
    "    cv2.THRESH_BINARY,11,2)\n",
    "#exibe as imagens\n",
    "cv2.imshow('Uzaki', th3)\n",
    "cv2.imshow('Uzaki Colorida', img)\n",
    "cv2.waitKey()\n",
    "cv2.destroyAllWindows()"
   ]
  },
  {
   "cell_type": "code",
   "execution_count": null,
   "metadata": {},
   "outputs": [],
   "source": []
  }
 ],
 "metadata": {
  "kernelspec": {
   "display_name": "Python 3",
   "language": "python",
   "name": "python3"
  },
  "language_info": {
   "codemirror_mode": {
    "name": "ipython",
    "version": 3
   },
   "file_extension": ".py",
   "mimetype": "text/x-python",
   "name": "python",
   "nbconvert_exporter": "python",
   "pygments_lexer": "ipython3",
   "version": "3.7.7"
  }
 },
 "nbformat": 4,
 "nbformat_minor": 4
}
