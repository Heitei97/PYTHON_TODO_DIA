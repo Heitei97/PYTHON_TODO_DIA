{
 "cells": [
  {
   "cell_type": "code",
   "execution_count": 5,
   "metadata": {},
   "outputs": [],
   "source": [
    "import PIL.Image"
   ]
  },
  {
   "cell_type": "code",
   "execution_count": 6,
   "metadata": {},
   "outputs": [],
   "source": [
    "from tkinter import *\n",
    "from tkinter.filedialog import askopenfilename\n",
    "\n",
    "root = Tk()\n",
    "root.withdraw()\n",
    "#abre caixa de diálogo para escolher a imagem.\n",
    "#salva caminho da imagem escolhida em img\n",
    "img = askopenfilename()\n",
    "root.update()\n",
    "root.destroy()"
   ]
  },
  {
   "cell_type": "code",
   "execution_count": 7,
   "metadata": {},
   "outputs": [],
   "source": [
    "#abre imagem em modo de leitura\n",
    "image = PIL.Image.open(img,'r')\n",
    "#converte imagem para pdf\n",
    "ipdf = image.convert('RGB')\n",
    "#salva imagem (pode passar diretório)\n",
    "ipdf.save('new.pdf')"
   ]
  },
  {
   "cell_type": "code",
   "execution_count": null,
   "metadata": {},
   "outputs": [],
   "source": []
  }
 ],
 "metadata": {
  "kernelspec": {
   "display_name": "Python 3",
   "language": "python",
   "name": "python3"
  },
  "language_info": {
   "codemirror_mode": {
    "name": "ipython",
    "version": 3
   },
   "file_extension": ".py",
   "mimetype": "text/x-python",
   "name": "python",
   "nbconvert_exporter": "python",
   "pygments_lexer": "ipython3",
   "version": "3.7.7"
  }
 },
 "nbformat": 4,
 "nbformat_minor": 4
}
