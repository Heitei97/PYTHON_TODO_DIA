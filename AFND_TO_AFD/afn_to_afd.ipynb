{
 "cells": [
  {
   "cell_type": "markdown",
   "metadata": {},
   "source": [
    "# imports"
   ]
  },
  {
   "cell_type": "code",
   "execution_count": 1,
   "metadata": {},
   "outputs": [],
   "source": [
    "import numpy as np\n",
    "import pandas as pd"
   ]
  },
  {
   "cell_type": "code",
   "execution_count": 3,
   "metadata": {},
   "outputs": [],
   "source": [
    "def afn_to_afd(afn, alfabeto, estados, estado_inicial, estados_finais):\n",
    "    \n",
    "    afd = []\n",
    "    \n",
    "    estados_afd_criados = [estado_inicial]\n",
    "    #afd.append(estados_afd_criados)\n",
    "    \n",
    "    for j in estados_afd_criados:\n",
    "        transicao_estados = []\n",
    "        for i in alfabeto:\n",
    "        \n",
    "            print('transição = ',j, i)\n",
    "            estado_temporario = []\n",
    "            transicoes = []\n",
    "            for k in j:\n",
    "                \n",
    "                if k != 'z':\n",
    "                    novo_estado_afd = definir_estado_afd(afn, k, i)\n",
    "                    estado_temporario.extend(novo_estado_afd)\n",
    "                    \n",
    "                    \n",
    "                    if 'z' in estado_temporario:\n",
    "                        estado_temporario.remove('z')\n",
    "                        \n",
    "                if list(set(estado_temporario)) not in estados_afd_criados:\n",
    "                    print(\"###### \", list(set(estado_temporario)))\n",
    "                    estados_afd_criados.append(list(set(estado_temporario)))\n",
    "            \n",
    "            transicao_estados.append(list(set(estado_temporario)))\n",
    "            \n",
    "        afd.append(transicao_estados)\n",
    "        print('***** ',afd)\n",
    "    return estados_afd_criados, afd"
   ]
  },
  {
   "cell_type": "code",
   "execution_count": 47,
   "metadata": {},
   "outputs": [],
   "source": [
    "def definir_estado_afd(afn, estado, transicao):\n",
    "    \n",
    "    estado_novo_afd = []\n",
    "    \n",
    "    if afn.loc[estado, transicao][0] != '' or afn.columns[-1] == 'e':\n",
    "        \n",
    "        if afn.loc[estado, transicao][0] != '':\n",
    "            estado_temporario = afn.loc[estado, transicao]\n",
    "            \n",
    "            for estado_unitario in estado_temporario:\n",
    "                estado_novo_afd.append(estado_unitario)\n",
    "                \n",
    "                if afn.columns[-1] == 'e':\n",
    "                    \n",
    "                    if  afn.loc[estado_unitario, 'e'][0] != '':\n",
    "                        \n",
    "                        for i in afn.loc[estado_unitario, 'e']:\n",
    "                            estado_novo_afd.append(i)\n",
    "        else:\n",
    "            print('*/*/**/*** ', afn.loc[estado, 'e'][0]) \n",
    "            if  afn.loc[estado, 'e'][0] != '':\n",
    "                print('*/*/**/***')            \n",
    "                for i in afn.loc[estado, 'e']:\n",
    "                    estado_novo_afd.append(i)\n",
    "\n",
    "    if len(estado_novo_afd) != 0:\n",
    "        \n",
    "        return sorted(set(estado_novo_afd)) #elimina elementos repetidos\n",
    "    else:\n",
    "        print(\"lepra\")\n",
    "        return ['z']    "
   ]
  },
  {
   "cell_type": "markdown",
   "metadata": {},
   "source": [
    "# Definido AFND"
   ]
  },
  {
   "cell_type": "code",
   "execution_count": 70,
   "metadata": {},
   "outputs": [
    {
     "data": {
      "text/html": [
       "<div>\n",
       "<style scoped>\n",
       "    .dataframe tbody tr th:only-of-type {\n",
       "        vertical-align: middle;\n",
       "    }\n",
       "\n",
       "    .dataframe tbody tr th {\n",
       "        vertical-align: top;\n",
       "    }\n",
       "\n",
       "    .dataframe thead th {\n",
       "        text-align: right;\n",
       "    }\n",
       "</style>\n",
       "<table border=\"1\" class=\"dataframe\">\n",
       "  <thead>\n",
       "    <tr style=\"text-align: right;\">\n",
       "      <th></th>\n",
       "      <th>0</th>\n",
       "      <th>1</th>\n",
       "      <th>e</th>\n",
       "    </tr>\n",
       "  </thead>\n",
       "  <tbody>\n",
       "    <tr>\n",
       "      <th>a</th>\n",
       "      <td>[a]</td>\n",
       "      <td>[]</td>\n",
       "      <td>[b]</td>\n",
       "    </tr>\n",
       "    <tr>\n",
       "      <th>b</th>\n",
       "      <td>[]</td>\n",
       "      <td>[b]</td>\n",
       "      <td>[]</td>\n",
       "    </tr>\n",
       "  </tbody>\n",
       "</table>\n",
       "</div>"
      ],
      "text/plain": [
       "     0    1    e\n",
       "a  [a]   []  [b]\n",
       "b   []  [b]   []"
      ]
     },
     "execution_count": 70,
     "metadata": {},
     "output_type": "execute_result"
    }
   ],
   "source": [
    "afn = [[['a'],[''], ['b']],\n",
    "      [[''],['b'], ['']]]\n",
    "\n",
    "colunas = ['0','1','e']\n",
    "alfabeto = ['0','1']\n",
    "estados = ['a','b']\n",
    "estado_inicial = ['a']\n",
    "estados_finais = ['b']\n",
    "\n",
    "afn = pd.DataFrame(data=afn, index=estados, columns=colunas)\n",
    "afn"
   ]
  },
  {
   "cell_type": "markdown",
   "metadata": {},
   "source": [
    "# outro afnd"
   ]
  },
  {
   "cell_type": "code",
   "execution_count": 165,
   "metadata": {},
   "outputs": [
    {
     "data": {
      "text/html": [
       "<div>\n",
       "<style scoped>\n",
       "    .dataframe tbody tr th:only-of-type {\n",
       "        vertical-align: middle;\n",
       "    }\n",
       "\n",
       "    .dataframe tbody tr th {\n",
       "        vertical-align: top;\n",
       "    }\n",
       "\n",
       "    .dataframe thead th {\n",
       "        text-align: right;\n",
       "    }\n",
       "</style>\n",
       "<table border=\"1\" class=\"dataframe\">\n",
       "  <thead>\n",
       "    <tr style=\"text-align: right;\">\n",
       "      <th></th>\n",
       "      <th>0</th>\n",
       "      <th>1</th>\n",
       "      <th>e</th>\n",
       "    </tr>\n",
       "  </thead>\n",
       "  <tbody>\n",
       "    <tr>\n",
       "      <th>a</th>\n",
       "      <td>[a]</td>\n",
       "      <td>[a, b]</td>\n",
       "      <td>[]</td>\n",
       "    </tr>\n",
       "    <tr>\n",
       "      <th>b</th>\n",
       "      <td>[c]</td>\n",
       "      <td>[]</td>\n",
       "      <td>[c]</td>\n",
       "    </tr>\n",
       "    <tr>\n",
       "      <th>c</th>\n",
       "      <td>[]</td>\n",
       "      <td>[d]</td>\n",
       "      <td>[]</td>\n",
       "    </tr>\n",
       "    <tr>\n",
       "      <th>d</th>\n",
       "      <td>[d]</td>\n",
       "      <td>[d]</td>\n",
       "      <td>[]</td>\n",
       "    </tr>\n",
       "  </tbody>\n",
       "</table>\n",
       "</div>"
      ],
      "text/plain": [
       "     0       1    e\n",
       "a  [a]  [a, b]   []\n",
       "b  [c]      []  [c]\n",
       "c   []     [d]   []\n",
       "d  [d]     [d]   []"
      ]
     },
     "execution_count": 165,
     "metadata": {},
     "output_type": "execute_result"
    }
   ],
   "source": [
    "afn1 = [[['a'],['a','b'], ['']],\n",
    "      [['c'], [''], ['c']],\n",
    "       [[''], ['d'], ['']],\n",
    "       [['d'], ['d'], ['']]]\n",
    "\n",
    "colunas = ['0','1','e']\n",
    "alfabeto = ['0','1']\n",
    "estados = ['a','b','c','d']\n",
    "estado_inicial = ['a']\n",
    "estados_finais = ['d']\n",
    "\n",
    "afn = pd.DataFrame(data=afn1, index=estados, columns=colunas)\n",
    "afn"
   ]
  },
  {
   "cell_type": "markdown",
   "metadata": {},
   "source": [
    "# convertendo"
   ]
  },
  {
   "cell_type": "code",
   "execution_count": 71,
   "metadata": {
    "scrolled": true
   },
   "outputs": [
    {
     "name": "stdout",
     "output_type": "stream",
     "text": [
      "transição =  ['a'] 0\n",
      "######  ['b', 'a']\n",
      "transição =  ['a'] 1\n",
      "*/*/**/***  b\n",
      "*/*/**/***\n",
      "######  ['b']\n",
      "*****  [[['b', 'a'], ['b']]]\n",
      "transição =  ['b', 'a'] 0\n",
      "*/*/**/***  \n",
      "lepra\n",
      "######  []\n",
      "transição =  ['b', 'a'] 1\n",
      "*/*/**/***  b\n",
      "*/*/**/***\n",
      "*****  [[['b', 'a'], ['b']], [['b', 'a'], ['b']]]\n",
      "transição =  ['b'] 0\n",
      "*/*/**/***  \n",
      "lepra\n",
      "transição =  ['b'] 1\n",
      "*****  [[['b', 'a'], ['b']], [['b', 'a'], ['b']], [[], ['b']]]\n",
      "transição =  [] 0\n",
      "transição =  [] 1\n",
      "*****  [[['b', 'a'], ['b']], [['b', 'a'], ['b']], [[], ['b']], [[], []]]\n"
     ]
    }
   ],
   "source": [
    "estados_afd_criados, afd = afn_to_afd(afn, alfabeto, estados, estado_inicial, estados_finais)"
   ]
  },
  {
   "cell_type": "markdown",
   "metadata": {},
   "source": [
    "# definir estados finais"
   ]
  },
  {
   "cell_type": "code",
   "execution_count": 79,
   "metadata": {},
   "outputs": [],
   "source": [
    "estados_finais_afd = []\n",
    "\n",
    "for n, i in enumerate(estados_afd_criados):\n",
    "    for j in i:\n",
    "         for k, m in enumerate(estados_finais):\n",
    "            if m == j:\n",
    "                estados_finais_afd.append(n)\n",
    "                continue"
   ]
  },
  {
   "cell_type": "markdown",
   "metadata": {},
   "source": [
    "# Renomeando os estados afd"
   ]
  },
  {
   "cell_type": "code",
   "execution_count": 82,
   "metadata": {
    "scrolled": true
   },
   "outputs": [],
   "source": [
    "y1 = np.zeros((np.array(afd).shape))\n",
    "x = np.zeros((np.array(estados_afd_criados).shape))\n",
    "\n",
    "for i in range(len(estados_afd_criados)):\n",
    "    for j in range(len(alfabeto)):\n",
    "        for k,m in enumerate(estados_afd_criados):\n",
    "            if afd[i][j] == m:\n",
    "                y1[i][j] = str(k)"
   ]
  },
  {
   "cell_type": "code",
   "execution_count": 83,
   "metadata": {},
   "outputs": [],
   "source": [
    "for i,j in enumerate(estados_afd_criados):\n",
    "    x[i] = str(i)"
   ]
  },
  {
   "cell_type": "code",
   "execution_count": 88,
   "metadata": {},
   "outputs": [
    {
     "data": {
      "text/html": [
       "<div>\n",
       "<style scoped>\n",
       "    .dataframe tbody tr th:only-of-type {\n",
       "        vertical-align: middle;\n",
       "    }\n",
       "\n",
       "    .dataframe tbody tr th {\n",
       "        vertical-align: top;\n",
       "    }\n",
       "\n",
       "    .dataframe thead th {\n",
       "        text-align: right;\n",
       "    }\n",
       "</style>\n",
       "<table border=\"1\" class=\"dataframe\">\n",
       "  <thead>\n",
       "    <tr style=\"text-align: right;\">\n",
       "      <th></th>\n",
       "      <th>0</th>\n",
       "      <th>1</th>\n",
       "    </tr>\n",
       "  </thead>\n",
       "  <tbody>\n",
       "    <tr>\n",
       "      <th>0.0</th>\n",
       "      <td>1.0</td>\n",
       "      <td>2.0</td>\n",
       "    </tr>\n",
       "    <tr>\n",
       "      <th>1.0</th>\n",
       "      <td>1.0</td>\n",
       "      <td>2.0</td>\n",
       "    </tr>\n",
       "    <tr>\n",
       "      <th>2.0</th>\n",
       "      <td>3.0</td>\n",
       "      <td>2.0</td>\n",
       "    </tr>\n",
       "    <tr>\n",
       "      <th>3.0</th>\n",
       "      <td>3.0</td>\n",
       "      <td>3.0</td>\n",
       "    </tr>\n",
       "  </tbody>\n",
       "</table>\n",
       "</div>"
      ],
      "text/plain": [
       "       0    1\n",
       "0.0  1.0  2.0\n",
       "1.0  1.0  2.0\n",
       "2.0  3.0  2.0\n",
       "3.0  3.0  3.0"
      ]
     },
     "execution_count": 88,
     "metadata": {},
     "output_type": "execute_result"
    }
   ],
   "source": [
    "df = pd.DataFrame(data=y1, index=x, columns=alfabeto)\n",
    "df"
   ]
  },
  {
   "cell_type": "code",
   "execution_count": 86,
   "metadata": {},
   "outputs": [],
   "source": [
    "funcao_transicao = y1\n",
    "estados = x\n",
    "estado_inicial = x[0]\n",
    "alfabeto = alfabeto\n",
    "estados_finais = estados_finais_afd"
   ]
  },
  {
   "cell_type": "code",
   "execution_count": 87,
   "metadata": {},
   "outputs": [
    {
     "data": {
      "text/plain": [
       "(array([[1., 2.],\n",
       "        [1., 2.],\n",
       "        [3., 2.],\n",
       "        [3., 3.]]),\n",
       " array([0., 1., 2., 3.]),\n",
       " 0.0,\n",
       " ['0', '1'],\n",
       " [1, 2])"
      ]
     },
     "execution_count": 87,
     "metadata": {},
     "output_type": "execute_result"
    }
   ],
   "source": [
    "funcao_transicao, estados, estado_inicial, alfabeto, estados_finais"
   ]
  },
  {
   "cell_type": "code",
   "execution_count": null,
   "metadata": {},
   "outputs": [],
   "source": []
  }
 ],
 "metadata": {
  "kernelspec": {
   "display_name": "Python 3",
   "language": "python",
   "name": "python3"
  },
  "language_info": {
   "codemirror_mode": {
    "name": "ipython",
    "version": 3
   },
   "file_extension": ".py",
   "mimetype": "text/x-python",
   "name": "python",
   "nbconvert_exporter": "python",
   "pygments_lexer": "ipython3",
   "version": "3.7.7"
  }
 },
 "nbformat": 4,
 "nbformat_minor": 4
}
