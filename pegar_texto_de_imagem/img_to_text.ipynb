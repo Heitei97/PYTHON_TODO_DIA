{
 "cells": [
  {
   "cell_type": "code",
   "execution_count": 1,
   "metadata": {},
   "outputs": [
    {
     "name": "stdout",
     "output_type": "stream",
     "text": [
      " \n",
      "\n",
      "DONT PANIC, BUT WERE\n",
      "MAYBE ALL GONNA DIE SOON.\n",
      "\n",
      "   \n",
      "\n",
      " \n",
      "\n",
      "\n"
     ]
    }
   ],
   "source": [
    "#windows\n",
    "#https://medium.com/@ahmetxgenc/how-to-use-tesseract-on-windows-fe9d2a9ba5c6\n",
    "#ubuntu\n",
    "#http://pythonclub.com.br/extraindo-texto-de-imagens-com-python.html\n",
    "# Importando o módulo Pillow para abrir a imagem no script\n",
    "from PIL import Image \n",
    "# Módulo para a utilização da tecnologia OCR\n",
    "import pytesseract \n",
    " # Extraindo o texto da imagem\n",
    "print( pytesseract.image_to_string( Image.open('night.png') ) )"
   ]
  },
  {
   "cell_type": "code",
   "execution_count": null,
   "metadata": {},
   "outputs": [],
   "source": []
  }
 ],
 "metadata": {
  "kernelspec": {
   "display_name": "Python 3",
   "language": "python",
   "name": "python3"
  },
  "language_info": {
   "codemirror_mode": {
    "name": "ipython",
    "version": 3
   },
   "file_extension": ".py",
   "mimetype": "text/x-python",
   "name": "python",
   "nbconvert_exporter": "python",
   "pygments_lexer": "ipython3",
   "version": "3.7.7"
  }
 },
 "nbformat": 4,
 "nbformat_minor": 4
}
